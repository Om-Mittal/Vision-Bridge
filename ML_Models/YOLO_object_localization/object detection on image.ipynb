{
 "cells": [
  {
   "cell_type": "code",
   "execution_count": 1,
   "metadata": {},
   "outputs": [],
   "source": [
    "# import the necessary packages\n",
    "import numpy as np\n",
    "import tensorflow as tf\n",
    "import cv2\n",
    "import time\n",
    "import os"
   ]
  },
  {
   "cell_type": "code",
   "execution_count": 2,
   "metadata": {},
   "outputs": [],
   "source": [
    "#open the directory ans set confidence amd threshold for predicting\n",
    "yolo_dir = os.path.join(\"coco\")\n",
    "conf = 0.5\n",
    "threshold = 0.3\n"
   ]
  },
  {
   "cell_type": "code",
   "execution_count": 4,
   "metadata": {},
   "outputs": [],
   "source": [
    "# load the COCO class labels our YOLO model was trained on\n",
    "labelspath = os.path.sep.join([yolo_dir, \"coco.names\"])\n",
    "labels = open(labelspath).read().strip().split(\"\\n\")"
   ]
  },
  {
   "cell_type": "code",
   "execution_count": 12,
   "metadata": {},
   "outputs": [],
   "source": [
    "# initialize a list of colors to represent each possible class label\n",
    "np.random.seed(42)\n",
    "colors = np.random.randint(0, 255, size=(len(labels), 3), dtype=\"uint8\")"
   ]
  },
  {
   "cell_type": "code",
   "execution_count": 14,
   "metadata": {},
   "outputs": [],
   "source": [
    "# derive the paths to the YOLO weights and model configuration\n",
    "weights_path = os.path.sep.join([yolo_dir, \"yolov3.weights\"])\n",
    "config_path = os.path.sep.join([yolo_dir, \"yolov3.cfg\"])\n"
   ]
  },
  {
   "cell_type": "code",
   "execution_count": 15,
   "metadata": {},
   "outputs": [],
   "source": [
    "# load our YOLO object detector trained on COCO dataset (80 classes)\n",
    "net = cv2.dnn.readNetFromDarknet(config_path, weights_path)"
   ]
  },
  {
   "cell_type": "code",
   "execution_count": 25,
   "metadata": {},
   "outputs": [
    {
     "name": "stdout",
     "output_type": "stream",
     "text": [
      "[INFO] YOLO took 1.648670 seconds\n"
     ]
    }
   ],
   "source": [
    "# load our input image and grab its spatial dimensions\n",
    "#image = cv2.imread(\"images/baggage_claim.jpg\")\n",
    "#(H,W) = image.shape[:2]\n",
    "# determine only the *output* layer names that we need from YOLO\n",
    "#ln = net.getLayerNames()\n",
    "#ln = [ln[i[0] - 1] for i in net.getUnconnectedOutLayers()]\n",
    "\n",
    "# construct a blob from the input image and then perform a forward\n",
    "# pass of the YOLO object detector, giving us our bounding boxes and\n",
    "# associated probabilities\n",
    "#blob = cv2.dnn.blobFromImage(image, 1/255.0, (416,416), swapRB=True, crop=False)\n",
    "#net.setInput(blob)\n",
    "#start = time.time()\n",
    "#layeroutputs = net.forward(ln)\n",
    "#end = time.time()\n",
    "\n",
    "# show timing information on YOLO\n",
    "#print(\"[INFO] YOLO took {:.6f} seconds\".format(end - start))\n",
    "\n",
    "\n",
    "# Initialize the video capture from the default camera (index 0)\n",
    "cap = cv2.VideoCapture(0)\n",
    "address=\"http://192.168.29.6:8080/\" #IP Address of the camera generated from the phone \n",
    "cap.open(address) #captured into the address and opened \n",
    "\n",
    "while True:\n",
    "    # Capture a frame from the camera\n",
    "    ret, frame = cap.read()\n",
    "    if not ret:\n",
    "        break\n",
    "\n",
    "    # Grab the spatial dimensions of the frame\n",
    "    (H, W) = frame.shape[:2]\n",
    "\n",
    "    # Determine only the *output* layer names that we need from YOLO\n",
    "    ln = net.getLayerNames()\n",
    "    ln = [ln[i[0] - 1] for i in net.getUnconnectedOutLayers()]\n",
    "\n",
    "    # Construct a blob from the input image and perform a forward\n",
    "    # pass of the YOLO object detector, giving us our bounding boxes and\n",
    "    # associated probabilities\n",
    "    blob = cv2.dnn.blobFromImage(frame, 1 / 255.0, (416, 416), swapRB=True, crop=False)\n",
    "    net.setInput(blob)\n",
    "    start = time.time()\n",
    "    layeroutputs = net.forward(ln)\n",
    "    end = time.time()\n",
    "\n",
    "    # Show timing information on YOLO\n",
    "    print(\"[INFO] YOLO took {:.6f} seconds\".format(end - start))"
   ]
  },
  {
   "cell_type": "code",
   "execution_count": 26,
   "metadata": {},
   "outputs": [],
   "source": [
    "# Initialize our lists of detected bounding boxes, confidences, and class IDs, respectively\n",
    "\n",
    "    boxes = []\n",
    "    confidences = []\n",
    "    classids = []\n",
    "\n",
    "    # Loop over each of the layer outputs\n",
    "    for output in layeroutputs:\n",
    "        # Loop over each of the detections\n",
    "        for detection in output:\n",
    "            # Extract the class ID and confidence of the current object detection\n",
    "            scores = detection[5:]\n",
    "            classid = np.argmax(scores)\n",
    "            confidence = scores[classid]\n",
    "\n",
    "            # Filter out weak predictions by ensuring the detected probability is greater than the minimum probability\n",
    "            if confidence > conf:\n",
    "                # Scale the bounding box coordinates back relative to the size of the image\n",
    "                box = detection[0:4] * np.array([W, H, W, H])\n",
    "                (centerX, centerY, width, height) = box.astype(\"int\")\n",
    "\n",
    "                # Use the center (x, y)-coordinates to derive the top and left corner of the bounding box\n",
    "                X = int(centerX - (width / 2))\n",
    "                Y = int(centerY - (height / 2))\n",
    "\n",
    "                # Update our list of bounding box coordinates, confidences, and class IDs\n",
    "                boxes.append([X, Y, int(width), int(height)])\n",
    "                confidences.append(float(confidence))\n",
    "                classids.append(classid)\n",
    "\n",
    "    # Apply non-maxima suppression to suppress weak, overlapping bounding boxes\n",
    "    idxs = cv2.dnn.NMSBoxes(boxes, confidences, conf, threshold)\n",
    "\n"
   ]
  },
  {
   "cell_type": "code",
   "execution_count": 32,
   "metadata": {},
   "outputs": [
    {
     "data": {
      "text/plain": [
       "27"
      ]
     },
     "execution_count": 32,
     "metadata": {},
     "output_type": "execute_result"
    }
   ],
   "source": [
    " # Ensure at least one detection exists\n",
    "    if len(idxs) > 0:\n",
    "        # Loop over the indexes we are keeping\n",
    "        for i in idxs.flatten():\n",
    "            # Extract the bounding box coordinates\n",
    "            (x, y) = (boxes[i][0], boxes[i][1])\n",
    "            (w, h) = (boxes[i][2], boxes[i][3])\n",
    "\n",
    "            # Draw a bounding box rectangle and label on the image\n",
    "            color = [int(c) for c in colors[classids[i]]]\n",
    "            cv2.rectangle(frame, (x, y), (x + w, y + h), color, 2)\n",
    "            text = \"{}: {:.4f}\".format(labels[classids[i]], confidences[i])\n",
    "            cv2.putText(frame, text, (x, y - 5), cv2.FONT_HERSHEY_SIMPLEX, 0.5, color, 2)\n",
    "\n",
    "    # Show the output frame\n",
    "    cv2.imshow(\"Object Detection\", frame)\n",
    "\n",
    "    # Break the loop if 'q' key is pressed\n",
    "    if cv2.waitKey(1) & 0xFF == ord('q'):\n",
    "        break"
   ]
  },
  {
   "cell_type": "code",
   "execution_count": null,
   "metadata": {},
   "outputs": [],
   "source": [
    "# Release the video capture object and close all windows\n",
    "cap.release()\n",
    "cv2.destroyAllWindows()"
   ]
  }
 ],
 "metadata": {
  "kernelspec": {
   "display_name": "Python 3",
   "language": "python",
   "name": "python3"
  },
  "language_info": {
   "codemirror_mode": {
    "name": "ipython",
    "version": 3
   },
   "file_extension": ".py",
   "mimetype": "text/x-python",
   "name": "python",
   "nbconvert_exporter": "python",
   "pygments_lexer": "ipython3",
   "version": "3.7.4"
  }
 },
 "nbformat": 4,
 "nbformat_minor": 4
}
